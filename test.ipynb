{
 "cells": [
  {
   "cell_type": "code",
   "execution_count": 34,
   "metadata": {},
   "outputs": [
    {
     "name": "stdout",
     "output_type": "stream",
     "text": [
      "set()\n"
     ]
    }
   ],
   "source": [
    "import pandas as pd\n",
    "import numpy as np\n",
    "\n",
    "locations = pd.read_csv('Location.csv')\n",
    "zipcodes = pd.read_csv('ZipCodes.csv')\n",
    "# typed_locations = locations[\"ZipCode\"].fillna(0)\n",
    "\n",
    "# print(set(typed_locations.astype(float).astype(int).to_list()))\n",
    "loc_zip = set(locations[\"ZipCode\"].astype(int).to_list())\n",
    "zip_zip = set(zipcodes[\"ZipCode\"].astype(int).to_list())\n",
    "\n",
    "\n",
    "\n",
    "print(loc_zip.difference(zip_zip))"
   ]
  }
 ],
 "metadata": {
  "kernelspec": {
   "display_name": "Python 3",
   "language": "python",
   "name": "python3"
  },
  "language_info": {
   "codemirror_mode": {
    "name": "ipython",
    "version": 3
   },
   "file_extension": ".py",
   "mimetype": "text/x-python",
   "name": "python",
   "nbconvert_exporter": "python",
   "pygments_lexer": "ipython3",
   "version": "3.11.1"
  },
  "orig_nbformat": 4
 },
 "nbformat": 4,
 "nbformat_minor": 2
}
