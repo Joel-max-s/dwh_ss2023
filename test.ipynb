{
 "cells": [
  {
   "cell_type": "code",
   "execution_count": 11,
   "metadata": {},
   "outputs": [
    {
     "name": "stdout",
     "output_type": "stream",
     "text": [
      "set()\n"
     ]
    }
   ],
   "source": [
    "import pandas as pd\n",
    "\n",
    "locations = pd.read_csv('Location.csv')\n",
    "zipcodes = pd.read_csv('ZipCodes.csv')\n",
    "\n",
    "loc_zip = set(locations[\"ZipCode\"].astype(int).to_list())\n",
    "zip_zip = set(zipcodes[\"ZipCode\"].astype(int).to_list())\n",
    "\n",
    "print(zip_zip.difference(loc_zip))"
   ]
  },
  {
   "cell_type": "code",
   "execution_count": 12,
   "metadata": {},
   "outputs": [
    {
     "name": "stdout",
     "output_type": "stream",
     "text": [
      "set()\n"
     ]
    }
   ],
   "source": [
    "crashes = pd.read_csv('Crashes.csv')\n",
    "loc_cid = set(locations[\"CollisionID\"].astype(int).tolist())\n",
    "crash_cid = set(crashes[\"CollisionID\"].astype(int).tolist())\n",
    "\n",
    "print(crash_cid.difference(loc_cid))"
   ]
  }
 ],
 "metadata": {
  "kernelspec": {
   "display_name": "Python 3",
   "language": "python",
   "name": "python3"
  },
  "language_info": {
   "codemirror_mode": {
    "name": "ipython",
    "version": 3
   },
   "file_extension": ".py",
   "mimetype": "text/x-python",
   "name": "python",
   "nbconvert_exporter": "python",
   "pygments_lexer": "ipython3",
   "version": "3.11.1"
  },
  "orig_nbformat": 4
 },
 "nbformat": 4,
 "nbformat_minor": 2
}
