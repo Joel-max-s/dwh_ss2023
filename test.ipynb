{
 "cells": [
  {
   "cell_type": "code",
   "execution_count": 30,
   "metadata": {},
   "outputs": [
    {
     "name": "stdout",
     "output_type": "stream",
     "text": [
      "{10112, 10115, 10118, 10119, 10120, 10121, 10122, 10123, 10000, 10105, 10271, 11040, 10278, 10279, 11430, 10281, 10282, 10151, 10152, 10153, 10154, 10158, 10155, 10162, 10803, 10165, 10166, 10167, 10168, 10041, 10169, 10170, 10171, 10045, 10172, 10173, 10048, 10174, 10178, 10179, 10176, 10177, 10055, 10065, 10069, 10075, 11109, 11241, 11242, 11249, 11251, 10103, 11001, 10106, 10107, 10110, 10111}\n"
     ]
    }
   ],
   "source": [
    "import pandas as pd\n",
    "import numpy as np\n",
    "\n",
    "locations = pd.read_csv('Location.csv')\n",
    "zipcodes = pd.read_csv('ZipCodes.csv')\n",
    "# typed_locations = locations[\"ZipCode\"].fillna(0)\n",
    "\n",
    "# print(set(typed_locations.astype(float).astype(int).to_list()))\n",
    "loc_zip = set(locations[\"ZipCode\"].astype(int).to_list())\n",
    "zip_zip = set(zipcodes[\"ZipCode\"].astype(int).to_list())\n",
    "\n",
    "\n",
    "\n",
    "print(loc_zip.difference(zip_zip))"
   ]
  }
 ],
 "metadata": {
  "kernelspec": {
   "display_name": "Python 3",
   "language": "python",
   "name": "python3"
  },
  "language_info": {
   "codemirror_mode": {
    "name": "ipython",
    "version": 3
   },
   "file_extension": ".py",
   "mimetype": "text/x-python",
   "name": "python",
   "nbconvert_exporter": "python",
   "pygments_lexer": "ipython3",
   "version": "3.11.1"
  },
  "orig_nbformat": 4
 },
 "nbformat": 4,
 "nbformat_minor": 2
}
