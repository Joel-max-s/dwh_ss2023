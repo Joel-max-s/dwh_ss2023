{
 "cells": [
  {
   "cell_type": "markdown",
   "metadata": {},
   "source": [
    "# Crashes"
   ]
  },
  {
   "cell_type": "code",
   "execution_count": null,
   "metadata": {},
   "outputs": [],
   "source": [
    "crashes_only = cleaned_crashes[['CollisionID','CrashDate','NumberOfInjured']].copy()\n",
    "\n",
    "# Adds WeatherID to Crashes\n",
    "#\n",
    "# crashes_only['CrashDate'] = pd.to_datetime(crashes_only['CrashDate'], format='%m/%d/%Y')\n",
    "# epoch = datetime(1970, 1, 1)\n",
    "# for index, row in crashes_only.iterrows():\n",
    "# \tdelta = (row['CrashDate'] - epoch)\n",
    "# \tcrashes_only.loc[index, 'WeatherID'] = delta.days\n",
    "# crashes_only['WeatherID'] = crashes_only['WeatherID'].astype(int)\n",
    "\n",
    "crashes_only.drop(columns=['CrashDate'], inplace=True)\n",
    "print(crashes_only)\n",
    "\n",
    "crashes_only.to_csv('Crashes.csv', index=False)"
   ]
  },
  {
   "cell_type": "markdown",
   "metadata": {},
   "source": [
    "## Location\n",
    "\n",
    "Planänderung: Datenbankentwurf wie im Diagramm dargestellt, mit hinzugefügten Fremdschlüsseln in `Neigbourhoods` und `ZipCodes`. Die `ZipCodeID` entfällt, da der `ZipCode` bereits eindeutig ist. Die Fremdschlüssel `BoroughID` und `NeigbourhoodID` entfallen demach in der `Location` Tabelle. Die `ZipCodeID` entfällt/wird direkt durch den `ZipCode` ersetzt. Des weiteren wird die `LocationID` durch die `CollisionID` ersetzt (zwischen `Location` und `Crashes` besteht eine 1:1 Beziehung)."
   ]
  },
  {
   "cell_type": "code",
   "execution_count": null,
   "metadata": {},
   "outputs": [],
   "source": [
    "location = cleaned_crashes[['CollisionID','ZipCode','Latitude','Longitude']].copy()\n",
    "location[['ZipCode']] = location[['ZipCode']].fillna(0)\n",
    "location[['ZipCode']] = location[['ZipCode']].replace('', 0)\n",
    "print(location)\n",
    "location[['ZipCode']] = location[['ZipCode']].round(0)\n",
    "location.to_csv('Location.csv', index=False)"
   ]
  },
  {
   "cell_type": "markdown",
   "metadata": {},
   "source": [
    "## Time\n",
    "\n",
    "Time hat aktuell ebenfalls `CollisionID` statt `TimeID`."
   ]
  },
  {
   "cell_type": "code",
   "execution_count": null,
   "metadata": {},
   "outputs": [],
   "source": [
    "time = cleaned_crashes[['CollisionID','CrashDate','CrashTime']].copy()\n",
    "time['CrashDateTime'] = pd.to_datetime(time['CrashDate'] + time['CrashTime'], format='%m/%d/%Y%H:%M')\n",
    "print(\"Number of unique days: \" + str(time['CrashDate'].nunique()))\n",
    "print(\"Earliest date: \" + str(time[\"CrashDateTime\"].min()))\n",
    "print(\"Latest date: \" + str(time[\"CrashDateTime\"].max()))\n",
    "\n",
    "# Achtung, Berechnung der WeatherID dauert mehrere Minuten (da for-each)\n",
    "time['CrashDate'] = pd.to_datetime(time['CrashDate'], format='%m/%d/%Y')\n",
    "epoch = datetime(1970, 1, 1)\n",
    "for index, row in crashes_only.iterrows():\n",
    "\tdelta = (row['CrashDate'] - epoch)\n",
    "\ttime.loc[index, 'WeatherID'] = delta.days\n",
    "time['WeatherID'] = time['WeatherID'].astype(int)\n",
    "\n",
    "\n",
    "time.drop(columns=['CrashDate', 'CrashTime'], inplace=True)\n",
    "print(time)\n",
    "\n",
    "time.to_csv('Time.csv', index=False)"
   ]
  },
  {
   "cell_type": "code",
   "execution_count": null,
   "metadata": {},
   "outputs": [],
   "source": [
    "import pandas as pd\n",
    "from datetime import datetime\n",
    "\n",
    "crashes = pd.read_csv('mvc_crashes.csv')\n",
    "print(crashes.columns.values)\n",
    "\n",
    "cleaned_crashes = crashes[['COLLISION_ID','CRASH DATE','CRASH TIME','BOROUGH','ZIP CODE','LATITUDE','LONGITUDE','NUMBER OF PERSONS INJURED']].copy()\n",
    "cleaned_crashes.rename(columns={\"COLLISION_ID\": \"CollisionID\",\n",
    "\t\t\t\t\t\t\t\t\"CRASH DATE\": \"CrashDate\",\n",
    "\t\t\t\t\t\t\t\t\"CRASH TIME\": \"CrashTime\",\n",
    "\t\t\t\t\t\t\t\t\"BOROUGH\": \"Borough\",\n",
    "\t\t\t\t\t\t\t\t\"ZIP CODE\": \"ZipCode\",\n",
    "\t\t\t\t\t\t\t\t\"LATITUDE\": \"Latitude\",\n",
    "\t\t\t\t\t\t\t\t\"LONGITUDE\": \"Longitude\",\n",
    "\t\t\t\t\t\t\t\t\"NUMBER OF PERSONS INJURED\": \"NumberOfInjured\"\n",
    "\t\t\t\t\t\t\t\t}, inplace=True)"
   ]
  },
  {
   "cell_type": "markdown",
   "metadata": {},
   "source": [
    "## Weather\n",
    "\n",
    "Es gab zwischen dem 01.07.2012 und dem 08.09.2023 an 4087 Tagen Unfälle (sind wahrscheinlich alle Tage in dem Zeitraum). Wetterinformationen sind aktuell einmal pro Tag vorhanden (nicht stündlich).\n",
    "\n",
    "`WeatherID` wird berechnet über die Anzahl der Tage seit dem 01.01.1970.\n",
    "\n",
    "Inhalt der CSV:\n",
    "- mittlere Tagestemperatur in °C\n",
    "- Sunrise/Sunset nach ISO 8601\n",
    "- Summe der Regenmenge in mm\n",
    "- Summe der Schneehöhe in cm\n",
    "- maximale Windgeschwindigkeit in km/h\n"
   ]
  },
  {
   "cell_type": "code",
   "execution_count": null,
   "metadata": {},
   "outputs": [],
   "source": [
    "from datetime import datetime\n",
    "\n",
    "weather = pd.read_csv(\"open-meteo-edit.csv\")\n",
    "weather['time'] = pd.to_datetime(weather['time'])\n",
    "epoch = datetime(1970, 1, 1)\n",
    "for index, row in weather.iterrows():\n",
    "\tdelta = (row['time'] - epoch)\n",
    "\tweather.loc[index, 'WeatherID'] = delta.days\n",
    "weather['WeatherID'] = weather['WeatherID'].astype(int)\n",
    "\n",
    "weather.drop(columns=['time'], inplace=True)\n",
    "weather.rename(columns={\"temperature_mean\": \"Temperature\",\n",
    "\t\t\t\t\t\t\"sunrise\": \"Sunrise\",\n",
    "\t\t\t\t\t\t\"sunset\": \"Sunset\",\n",
    "\t\t\t\t\t\t\"rain_sum\": \"Rainfall\",\n",
    "\t\t\t\t\t\t\"snowfall_sum\": \"Snowfall\",\n",
    "\t\t\t\t\t\t\"windspeed_max\": \"Windspeed\"\n",
    "\t\t\t\t\t\t}, inplace=True)\n",
    "print(weather)\n",
    "weather.to_csv(\"Weather.csv\", index=False)"
   ]
  },
  {
   "cell_type": "markdown",
   "metadata": {},
   "source": [
    "# Vehicles"
   ]
  },
  {
   "cell_type": "code",
   "execution_count": null,
   "metadata": {},
   "outputs": [],
   "source": [
    "import pandas as pd\n",
    "vehicles = pd.read_csv('mvc_vehicles.csv')"
   ]
  },
  {
   "cell_type": "code",
   "execution_count": null,
   "metadata": {},
   "outputs": [],
   "source": [
    "cleaned_vehicles = vehicles[['UNIQUE_ID','COLLISION_ID','VEHICLE_ID','VEHICLE_TYPE','VEHICLE_YEAR','VEHICLE_MAKE','VEHICLE_MODEL']].copy()\n",
    "cleaned_vehicles.rename(columns={\"UNIQUE_ID\": \"UniqueID\",\n",
    "\t\t\t\t\t\t\t\t\"COLLISION_ID\": \"CollisionID\",\n",
    "\t\t\t\t\t\t\t\t\"VEHICLE_ID\": \"VehicleID\",\n",
    "\t\t\t\t\t\t\t\t\"VEHICLE_TYPE\": \"VehicleType\",\n",
    "\t\t\t\t\t\t\t\t\"VEHICLE_YEAR\": \"VehicleYear\",\n",
    "\t\t\t\t\t\t\t\t\"VEHICLE_MAKE\": \"VehicleMake\",\n",
    "\t\t\t\t\t\t\t\t\"VEHICLE_MODEL\": \"VehicleModel\"\n",
    "\t\t\t\t\t\t\t\t}, inplace=True)\n",
    "cleaned_vehicles.to_csv('cleaned_vehicles.csv', index=False)"
   ]
  },
  {
   "cell_type": "markdown",
   "metadata": {},
   "source": [
    "# Persons"
   ]
  },
  {
   "cell_type": "code",
   "execution_count": null,
   "metadata": {},
   "outputs": [],
   "source": [
    "import pandas as pd\n",
    "persons = pd.read_csv('mvc_persons.csv')"
   ]
  },
  {
   "cell_type": "code",
   "execution_count": null,
   "metadata": {},
   "outputs": [],
   "source": [
    "cleaned_persons = persons[['UNIQUE_ID', 'PERSON_ID','COLLISION_ID','VEHICLE_ID','PERSON_AGE','PERSON_INJURY','EMOTIONAL_STATUS','PERSON_SEX','PED_ROLE']].copy()\n",
    "cleaned_persons.rename(columns={\"UNIQUE_ID\": \"UniqueID\",\n",
    "\t\t\t\t\t\t\t\t\"PERSON_ID\": \"PersonID\",\n",
    "\t\t\t\t\t\t\t\t\"COLLISION_ID\": \"CollisionID\",\n",
    "\t\t\t\t\t\t\t\t\"VEHICLE_ID\": \"VehicleID\",\n",
    "\t\t\t\t\t\t\t\t\"PERSON_AGE\": \"Age\",\n",
    "\t\t\t\t\t\t\t\t\"PERSON_INJURY\": \"Injury\",\n",
    "\t\t\t\t\t\t\t\t\"EMOTIONAL_STATUS\": \"EmotionalStatus\",\n",
    "\t\t\t\t\t\t\t\t\"PERSON_SEX\": \"Gender\",\n",
    "\t\t\t\t\t\t\t\t\"PED_ROLE\": \"PedRole\"\n",
    "\t\t\t\t\t\t\t\t}, inplace=True)\n",
    "cleaned_persons.to_csv('cleaned_person.csv', index=False)"
   ]
  }
 ],
 "metadata": {
  "kernelspec": {
   "display_name": "Python 3",
   "language": "python",
   "name": "python3"
  },
  "language_info": {
   "codemirror_mode": {
    "name": "ipython",
    "version": 3
   },
   "file_extension": ".py",
   "mimetype": "text/x-python",
   "name": "python",
   "nbconvert_exporter": "python",
   "pygments_lexer": "ipython3",
   "version": "3.11.1"
  },
  "orig_nbformat": 4
 },
 "nbformat": 4,
 "nbformat_minor": 2
}
