{
 "cells": [
  {
   "cell_type": "markdown",
   "metadata": {},
   "source": [
    "# Crashes"
   ]
  },
  {
   "cell_type": "code",
   "execution_count": 60,
   "metadata": {},
   "outputs": [
    {
     "name": "stderr",
     "output_type": "stream",
     "text": [
      "C:\\Users\\Tizian\\AppData\\Local\\Temp\\ipykernel_10208\\1069871969.py:4: DtypeWarning: Columns (3) have mixed types. Specify dtype option on import or set low_memory=False.\n",
      "  crashes = pd.read_csv('mvc_crashes.csv')\n"
     ]
    },
    {
     "name": "stdout",
     "output_type": "stream",
     "text": [
      "['CRASH DATE' 'CRASH TIME' 'BOROUGH' 'ZIP CODE' 'LATITUDE' 'LONGITUDE'\n",
      " 'LOCATION' 'ON STREET NAME' 'CROSS STREET NAME' 'OFF STREET NAME'\n",
      " 'NUMBER OF PERSONS INJURED' 'NUMBER OF PERSONS KILLED'\n",
      " 'NUMBER OF PEDESTRIANS INJURED' 'NUMBER OF PEDESTRIANS KILLED'\n",
      " 'NUMBER OF CYCLIST INJURED' 'NUMBER OF CYCLIST KILLED'\n",
      " 'NUMBER OF MOTORIST INJURED' 'NUMBER OF MOTORIST KILLED'\n",
      " 'CONTRIBUTING FACTOR VEHICLE 1' 'CONTRIBUTING FACTOR VEHICLE 2'\n",
      " 'CONTRIBUTING FACTOR VEHICLE 3' 'CONTRIBUTING FACTOR VEHICLE 4'\n",
      " 'CONTRIBUTING FACTOR VEHICLE 5' 'COLLISION_ID' 'VEHICLE TYPE CODE 1'\n",
      " 'VEHICLE TYPE CODE 2' 'VEHICLE TYPE CODE 3' 'VEHICLE TYPE CODE 4'\n",
      " 'VEHICLE TYPE CODE 5']\n"
     ]
    }
   ],
   "source": [
    "import pandas as pd\n",
    "from datetime import datetime\n",
    "\n",
    "crashes = pd.read_csv('mvc_crashes.csv')\n",
    "print(crashes.columns.values)\n",
    "\n",
    "cleaned_crashes = crashes[['COLLISION_ID','CRASH DATE','CRASH TIME','BOROUGH','ZIP CODE','LATITUDE','LONGITUDE','NUMBER OF PERSONS INJURED']].copy()\n",
    "cleaned_crashes.rename(columns={\"COLLISION_ID\": \"CollisionID\",\n",
    "\t\t\t\t\t\t\t\t\"CRASH DATE\": \"CrashDate\",\n",
    "\t\t\t\t\t\t\t\t\"CRASH TIME\": \"CrashTime\",\n",
    "\t\t\t\t\t\t\t\t\"BOROUGH\": \"Borough\",\n",
    "\t\t\t\t\t\t\t\t\"ZIP CODE\": \"ZipCode\",\n",
    "\t\t\t\t\t\t\t\t\"LATITUDE\": \"Latitude\",\n",
    "\t\t\t\t\t\t\t\t\"LONGITUDE\": \"Longitude\",\n",
    "\t\t\t\t\t\t\t\t\"NUMBER OF PERSONS INJURED\": \"NumberOfInjured\"\n",
    "\t\t\t\t\t\t\t\t}, inplace=True)"
   ]
  },
  {
   "cell_type": "code",
   "execution_count": 69,
   "metadata": {},
   "outputs": [
    {
     "name": "stdout",
     "output_type": "stream",
     "text": [
      "         CollisionID  NumberOfInjured\n",
      "0            4455765              2.0\n",
      "1            4513547              1.0\n",
      "2            4541903              0.0\n",
      "3            4456314              0.0\n",
      "4            4486609              0.0\n",
      "...              ...              ...\n",
      "2024473      4648110              0.0\n",
      "2024474      4648117              1.0\n",
      "2024475      4648366              0.0\n",
      "2024476      4648129              1.0\n",
      "2024477      4647913              0.0\n",
      "\n",
      "[2024478 rows x 2 columns]\n"
     ]
    }
   ],
   "source": [
    "crashes_only = cleaned_crashes[['CollisionID','CrashDate','NumberOfInjured']].copy()\n",
    "\n",
    "# Adds WeatherID to Crashes\n",
    "#\n",
    "# crashes_only['CrashDate'] = pd.to_datetime(crashes_only['CrashDate'], format='%m/%d/%Y')\n",
    "# epoch = datetime(1970, 1, 1)\n",
    "# for index, row in crashes_only.iterrows():\n",
    "# \tdelta = (row['CrashDate'] - epoch)\n",
    "# \tcrashes_only.loc[index, 'WeatherID'] = delta.days\n",
    "# crashes_only['WeatherID'] = crashes_only['WeatherID'].astype(int)\n",
    "\n",
    "crashes_only.drop(columns=['CrashDate'], inplace=True)\n",
    "print(crashes_only)\n",
    "\n",
    "crashes_only.to_csv('Crashes.csv', index=False)"
   ]
  },
  {
   "cell_type": "markdown",
   "metadata": {},
   "source": [
    "## Location\n",
    "\n",
    "Planänderung: Datenbankentwurf wie im Diagramm dargestellt, mit hinzugefügten Fremdschlüsseln in `Neigbourhoods` und `ZipCodes`. Die `ZipCodeID` entfällt, da der `ZipCode` bereits eindeutig ist. Die Fremdschlüssel `BoroughID` und `NeigbourhoodID` entfallen demach in der `Location` Tabelle. Die `ZipCodeID` entfällt/wird direkt durch den `ZipCode` ersetzt. Des weiteren wird die `LocationID` durch die `CollisionID` ersetzt (zwischen `Location` und `Crashes` besteht eine 1:1 Beziehung)."
   ]
  },
  {
   "cell_type": "code",
   "execution_count": null,
   "metadata": {},
   "outputs": [],
   "source": [
    "location = cleaned_crashes[['CollisionID','ZipCode','Latitude','Longitude']].copy()\n",
    "location[['ZipCode']] = location[['ZipCode']].fillna(0)\n",
    "location[['ZipCode']] = location[['ZipCode']].replace('', 0)\n",
    "print(location)\n",
    "location[['ZipCode']] = location[['ZipCode']].round(0)\n",
    "location.to_csv('Location.csv', index=False)"
   ]
  },
  {
   "cell_type": "markdown",
   "metadata": {},
   "source": [
    "## Time\n",
    "\n",
    "Time hat aktuell ebenfalls `CollisionID` statt `TimeID`."
   ]
  },
  {
   "cell_type": "code",
   "execution_count": 64,
   "metadata": {},
   "outputs": [
    {
     "name": "stdout",
     "output_type": "stream",
     "text": [
      "Number of unique days: 4087\n",
      "Earliest date: 2012-07-01 00:05:00\n",
      "Latest date: 2023-09-08 23:57:00\n",
      "         CollisionID       CrashDateTime  WeatherID\n",
      "0            4455765 2021-09-11 02:39:00      18881\n",
      "1            4513547 2022-03-26 11:45:00      19077\n",
      "2            4541903 2022-06-29 06:55:00      19172\n",
      "3            4456314 2021-09-11 09:35:00      18881\n",
      "4            4486609 2021-12-14 08:13:00      18975\n",
      "...              ...                 ...        ...\n",
      "2024473      4648110 2023-07-03 18:05:00      19541\n",
      "2024474      4648117 2023-07-22 21:39:00      19560\n",
      "2024475      4648366 2023-07-02 17:55:00      19540\n",
      "2024476      4648129 2023-07-22 13:15:00      19560\n",
      "2024477      4647913 2023-07-22 03:00:00      19560\n",
      "\n",
      "[2024478 rows x 3 columns]\n"
     ]
    }
   ],
   "source": [
    "time = cleaned_crashes[['CollisionID','CrashDate','CrashTime']].copy()\n",
    "time['CrashDateTime'] = pd.to_datetime(time['CrashDate'] + time['CrashTime'], format='%m/%d/%Y%H:%M')\n",
    "print(\"Number of unique days: \" + str(time['CrashDate'].nunique()))\n",
    "print(\"Earliest date: \" + str(time[\"CrashDateTime\"].min()))\n",
    "print(\"Latest date: \" + str(time[\"CrashDateTime\"].max()))\n",
    "\n",
    "# Achtung, Berechnung der WeatherID dauert mehrere Minuten (da for-each)\n",
    "time['CrashDate'] = pd.to_datetime(time['CrashDate'], format='%m/%d/%Y')\n",
    "epoch = datetime(1970, 1, 1)\n",
    "for index, row in crashes_only.iterrows():\n",
    "\tdelta = (row['CrashDate'] - epoch)\n",
    "\ttime.loc[index, 'WeatherID'] = delta.days\n",
    "time['WeatherID'] = time['WeatherID'].astype(int)\n",
    "\n",
    "\n",
    "time.drop(columns=['CrashDate', 'CrashTime'], inplace=True)\n",
    "print(time)\n",
    "\n",
    "time.to_csv('Time.csv', index=False)"
   ]
  },
  {
   "cell_type": "markdown",
   "metadata": {},
   "source": [
    "## Weather\n",
    "\n",
    "Es gab zwischen dem 01.07.2012 und dem 08.09.2023 an 4087 Tagen Unfälle (sind wahrscheinlich alle Tage in dem Zeitraum). Wetterinformationen sind aktuell einmal pro Tag vorhanden (nicht stündlich).\n",
    "\n",
    "`WeatherID` wird berechnet über die Anzahl der Tage seit dem 01.01.1970.\n",
    "\n",
    "Inhalt der CSV:\n",
    "- mittlere Tagestemperatur in °C\n",
    "- Sunrise/Sunset nach ISO 8601\n",
    "- Summe der Regenmenge in mm\n",
    "- Summe der Schneehöhe in cm\n",
    "- maximale Windgeschwindigkeit in km/h\n"
   ]
  },
  {
   "cell_type": "code",
   "execution_count": 59,
   "metadata": {},
   "outputs": [
    {
     "name": "stdout",
     "output_type": "stream",
     "text": [
      "      Temperature           Sunrise            Sunset  Rainfall  Snowfall  \\\n",
      "0            27.4  2012-07-01T05:28  2012-07-01T20:30       1.7       0.0   \n",
      "1            25.7  2012-07-02T05:29  2012-07-02T20:30       0.0       0.0   \n",
      "2            25.8  2012-07-03T05:30  2012-07-03T20:30       0.0       0.0   \n",
      "3            26.8  2012-07-04T05:30  2012-07-04T20:30       3.9       0.0   \n",
      "4            28.9  2012-07-05T05:31  2012-07-05T20:30       0.0       0.0   \n",
      "...           ...               ...               ...       ...       ...   \n",
      "4084         27.9  2023-09-06T06:27  2023-09-06T19:20       0.0       0.0   \n",
      "4085         27.6  2023-09-07T06:28  2023-09-07T19:19       0.5       0.0   \n",
      "4086         26.0  2023-09-08T06:29  2023-09-08T19:17       7.9       0.0   \n",
      "4087         23.9  2023-09-09T06:30  2023-09-09T19:15      13.7       0.0   \n",
      "4088         22.5  2023-09-10T06:31  2023-09-10T19:14       8.8       0.0   \n",
      "\n",
      "      Windspeed  WeatherID  \n",
      "0          17.0      15522  \n",
      "1          14.0      15523  \n",
      "2          12.1      15524  \n",
      "3          10.9      15525  \n",
      "4          14.4      15526  \n",
      "...         ...        ...  \n",
      "4084        9.2      19606  \n",
      "4085       13.0      19607  \n",
      "4086       13.0      19608  \n",
      "4087       10.9      19609  \n",
      "4088        8.4      19610  \n",
      "\n",
      "[4089 rows x 7 columns]\n"
     ]
    }
   ],
   "source": [
    "from datetime import datetime\n",
    "\n",
    "weather = pd.read_csv(\"open-meteo-edit.csv\")\n",
    "weather['time'] = pd.to_datetime(weather['time'])\n",
    "epoch = datetime(1970, 1, 1)\n",
    "for index, row in weather.iterrows():\n",
    "\tdelta = (row['time'] - epoch)\n",
    "\tweather.loc[index, 'WeatherID'] = delta.days\n",
    "weather['WeatherID'] = weather['WeatherID'].astype(int)\n",
    "\n",
    "weather.drop(columns=['time'], inplace=True)\n",
    "weather.rename(columns={\"temperature_mean\": \"Temperature\",\n",
    "\t\t\t\t\t\t\"sunrise\": \"Sunrise\",\n",
    "\t\t\t\t\t\t\"sunset\": \"Sunset\",\n",
    "\t\t\t\t\t\t\"rain_sum\": \"Rainfall\",\n",
    "\t\t\t\t\t\t\"snowfall_sum\": \"Snowfall\",\n",
    "\t\t\t\t\t\t\"windspeed_max\": \"Windspeed\"\n",
    "\t\t\t\t\t\t}, inplace=True)\n",
    "print(weather)\n",
    "weather.to_csv(\"Weather.csv\", index=False)"
   ]
  },
  {
   "cell_type": "markdown",
   "metadata": {},
   "source": [
    "# Vehicles"
   ]
  },
  {
   "cell_type": "code",
   "execution_count": 1,
   "metadata": {},
   "outputs": [
    {
     "name": "stderr",
     "output_type": "stream",
     "text": [
      "C:\\Users\\Tizian\\AppData\\Local\\Temp\\ipykernel_10208\\3228589016.py:2: DtypeWarning: Columns (8) have mixed types. Specify dtype option on import or set low_memory=False.\n",
      "  vehicles = pd.read_csv('mvc_vehicles.csv')\n"
     ]
    },
    {
     "name": "stdout",
     "output_type": "stream",
     "text": [
      "         UNIQUE_ID  COLLISION_ID  CRASH_DATE CRASH_TIME  \\\n",
      "0         10385780        100201  09/07/2012       9:03   \n",
      "1         19140702       4213082  09/23/2019       8:15   \n",
      "2         14887647       3307608  10/02/2015      17:18   \n",
      "3         14889754       3308693  10/04/2015      20:34   \n",
      "4         14400270        297666  04/25/2013      21:15   \n",
      "...            ...           ...         ...        ...   \n",
      "3704401   20083223       4466593  10/11/2021      11:00   \n",
      "3704402   20083044       4466424  10/11/2021       7:15   \n",
      "3704403   20081526       4465968  10/11/2021       0:15   \n",
      "3704404   20083216       4466592  10/11/2021      22:10   \n",
      "3704405   20083752       4466794  10/08/2021      23:30   \n",
      "\n",
      "                                   VEHICLE_ID STATE_REGISTRATION  \\\n",
      "0                                           1                 NY   \n",
      "1        0553ab4d-9500-4cba-8d98-f4d7f89d5856                 NY   \n",
      "2                                           2                 NY   \n",
      "3                                           1                 NY   \n",
      "4                                           1                 NY   \n",
      "...                                       ...                ...   \n",
      "3704401  517fa844-84ac-4a52-aa06-b6b62c59903e                 NY   \n",
      "3704402  10f6574c-8056-43ab-bfab-9162e074001a                 NY   \n",
      "3704403  28cee7e8-669b-4888-997c-994702e81803                 NY   \n",
      "3704404  5f074db1-454a-496a-939e-bc38fe90b421                 SC   \n",
      "3704405  fcad9a4f-b2ea-48ef-b4a4-d46e95628324                 NY   \n",
      "\n",
      "                                VEHICLE_TYPE   VEHICLE_MAKE VEHICLE_MODEL  \\\n",
      "0                          PASSENGER VEHICLE            NaN           NaN   \n",
      "1        Station Wagon/Sport Utility Vehicle  TOYT -CAR/SUV           NaN   \n",
      "2                                       TAXI            NaN           NaN   \n",
      "3                          PASSENGER VEHICLE            NaN           NaN   \n",
      "4                          PASSENGER VEHICLE            NaN           NaN   \n",
      "...                                      ...            ...           ...   \n",
      "3704401  Station Wagon/Sport Utility Vehicle  FORD -CAR/SUV           NaN   \n",
      "3704402  Station Wagon/Sport Utility Vehicle  NISS -CAR/SUV           NaN   \n",
      "3704403  Station Wagon/Sport Utility Vehicle  JEEP -CAR/SUV           NaN   \n",
      "3704404                                Sedan  NISS -CAR/SUV           NaN   \n",
      "3704405  Station Wagon/Sport Utility Vehicle  HOND -CAR/SUV           NaN   \n",
      "\n",
      "         VEHICLE_YEAR  ...             PRE_CRASH            POINT_OF_IMPACT  \\\n",
      "0                 NaN  ...                   NaN                        NaN   \n",
      "1              2002.0  ...  Going Straight Ahead          Left Front Bumper   \n",
      "2                 NaN  ...  Going Straight Ahead                        NaN   \n",
      "3                 NaN  ...                Parked                        NaN   \n",
      "4                 NaN  ...                   NaN                        NaN   \n",
      "...               ...  ...                   ...                        ...   \n",
      "3704401        2005.0  ...  Going Straight Ahead  Right Front Quarter Panel   \n",
      "3704402        2011.0  ...                Parked    Left Rear Quarter Panel   \n",
      "3704403        2016.0  ...     Making Right Turn          Left Front Bumper   \n",
      "3704404        2001.0  ...  Going Straight Ahead         Right Front Bumper   \n",
      "3704405        2013.0  ...  Going Straight Ahead           Center Front End   \n",
      "\n",
      "                    VEHICLE_DAMAGE    VEHICLE_DAMAGE_1  \\\n",
      "0                              NaN                 NaN   \n",
      "1         Left Front Quarter Panel                 NaN   \n",
      "2                              NaN                 NaN   \n",
      "3                              NaN                 NaN   \n",
      "4                              NaN                 NaN   \n",
      "...                            ...                 ...   \n",
      "3704401  Right Front Quarter Panel  Right Front Bumper   \n",
      "3704402    Left Rear Quarter Panel     Left Side Doors   \n",
      "3704403          Left Front Bumper    Center Front End   \n",
      "3704404         Right Front Bumper    Center Front End   \n",
      "3704405           Center Front End   Left Front Bumper   \n",
      "\n",
      "                 VEHICLE_DAMAGE_2   VEHICLE_DAMAGE_3 PUBLIC_PROPERTY_DAMAGE  \\\n",
      "0                             NaN                NaN                    NaN   \n",
      "1                             NaN                NaN                      N   \n",
      "2                             NaN                NaN                    NaN   \n",
      "3                             NaN                NaN                    NaN   \n",
      "4                             NaN                NaN                    NaN   \n",
      "...                           ...                ...                    ...   \n",
      "3704401                 No Damage          No Damage                      N   \n",
      "3704402  Left Front Quarter Panel  Left Front Bumper                      N   \n",
      "3704403                       NaN                NaN                      N   \n",
      "3704404         Left Front Bumper                NaN                      N   \n",
      "3704405        Right Front Bumper                NaN                      N   \n",
      "\n",
      "        PUBLIC_PROPERTY_DAMAGE_TYPE           CONTRIBUTING_FACTOR_1  \\\n",
      "0                               NaN                     Unspecified   \n",
      "1                               NaN  Driver Inattention/Distraction   \n",
      "2                               NaN  Driver Inattention/Distraction   \n",
      "3                               NaN                     Unspecified   \n",
      "4                               NaN                 Other Vehicular   \n",
      "...                             ...                             ...   \n",
      "3704401                         NaN           Following Too Closely   \n",
      "3704402                         NaN                     Unspecified   \n",
      "3704403                         NaN   Failure to Yield Right-of-Way   \n",
      "3704404                         NaN                Brakes Defective   \n",
      "3704405                         NaN  Driver Inattention/Distraction   \n",
      "\n",
      "        CONTRIBUTING_FACTOR_2  \n",
      "0                         NaN  \n",
      "1                 Unspecified  \n",
      "2                         NaN  \n",
      "3                         NaN  \n",
      "4                         NaN  \n",
      "...                       ...  \n",
      "3704401           Unspecified  \n",
      "3704402           Unspecified  \n",
      "3704403           Unspecified  \n",
      "3704404           Unspecified  \n",
      "3704405   Driver Inexperience  \n",
      "\n",
      "[3704406 rows x 25 columns]\n"
     ]
    }
   ],
   "source": [
    "import pandas as pd\n",
    "vehicles = pd.read_csv('mvc_vehicles.csv')"
   ]
  },
  {
   "cell_type": "code",
   "execution_count": 2,
   "metadata": {},
   "outputs": [],
   "source": [
    "cleaned_vehicles = vehicles[['UNIQUE_ID','COLLISION_ID','VEHICLE_ID','VEHICLE_TYPE','VEHICLE_YEAR','VEHICLE_MAKE','VEHICLE_MODEL']].copy()\n",
    "cleaned_vehicles.rename(columns={\"UNIQUE_ID\": \"UniqueID\",\n",
    "\t\t\t\t\t\t\t\t\"COLLISION_ID\": \"CollisionID\",\n",
    "\t\t\t\t\t\t\t\t\"VEHICLE_ID\": \"VehicleID\",\n",
    "\t\t\t\t\t\t\t\t\"VEHICLE_TYPE\": \"VehicleType\",\n",
    "\t\t\t\t\t\t\t\t\"VEHICLE_YEAR\": \"VehicleYear\",\n",
    "\t\t\t\t\t\t\t\t\"VEHICLE_MAKE\": \"VehicleMake\",\n",
    "\t\t\t\t\t\t\t\t\"VEHICLE_MODEL\": \"VehicleModel\"\n",
    "\t\t\t\t\t\t\t\t}, inplace=True)\n",
    "cleaned_vehicles.to_csv('cleaned_vehicles.csv', index=False)"
   ]
  },
  {
   "cell_type": "markdown",
   "metadata": {},
   "source": [
    "# Persons"
   ]
  },
  {
   "cell_type": "code",
   "execution_count": 6,
   "metadata": {},
   "outputs": [],
   "source": [
    "import pandas as pd\n",
    "persons = pd.read_csv('mvc_persons.csv')"
   ]
  },
  {
   "cell_type": "code",
   "execution_count": 7,
   "metadata": {},
   "outputs": [],
   "source": [
    "cleaned_persons = persons[['UNIQUE_ID', 'PERSON_ID','COLLISION_ID','VEHICLE_ID','PERSON_AGE','PERSON_INJURY','EMOTIONAL_STATUS','PERSON_SEX','PED_ROLE']].copy()\n",
    "cleaned_persons.rename(columns={\"UNIQUE_ID\": \"UniqueID\",\n",
    "\t\t\t\t\t\t\t\t\"PERSON_ID\": \"PersonID\",\n",
    "\t\t\t\t\t\t\t\t\"COLLISION_ID\": \"CollisionID\",\n",
    "\t\t\t\t\t\t\t\t\"VEHICLE_ID\": \"VehicleID\",\n",
    "\t\t\t\t\t\t\t\t\"PERSON_AGE\": \"Age\",\n",
    "\t\t\t\t\t\t\t\t\"PERSON_INJURY\": \"Injury\",\n",
    "\t\t\t\t\t\t\t\t\"EMOTIONAL_STATUS\": \"EmotionalStatus\",\n",
    "\t\t\t\t\t\t\t\t\"PERSON_SEX\": \"Gender\",\n",
    "\t\t\t\t\t\t\t\t\"PED_ROLE\": \"PedRole\"\n",
    "\t\t\t\t\t\t\t\t}, inplace=True)\n",
    "cleaned_persons.to_csv('cleaned_person.csv', index=False)"
   ]
  }
 ],
 "metadata": {
  "kernelspec": {
   "display_name": "Python 3",
   "language": "python",
   "name": "python3"
  },
  "language_info": {
   "codemirror_mode": {
    "name": "ipython",
    "version": 3
   },
   "file_extension": ".py",
   "mimetype": "text/x-python",
   "name": "python",
   "nbconvert_exporter": "python",
   "pygments_lexer": "ipython3",
   "version": "3.10.2"
  },
  "orig_nbformat": 4
 },
 "nbformat": 4,
 "nbformat_minor": 2
}
