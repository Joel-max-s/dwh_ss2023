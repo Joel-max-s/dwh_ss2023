{
 "cells": [
  {
   "cell_type": "code",
   "execution_count": 32,
   "metadata": {},
   "outputs": [
    {
     "name": "stdout",
     "output_type": "stream",
     "text": [
      "{'info': [{'borough': 'Bronx', 'neighbourhoods': [{'name': 'Kingsbridge - Riverdale', 'zipcodes': [10463, 10471]}, {'name': 'Northeast Bronx', 'zipcodes': [10466, 10469, 10470, 10475, 10803]}, {'name': 'Fordham - Bronx Park', 'zipcodes': [10458, 10467, 10468]}, {'name': 'Pelham - Throgs Neck', 'zipcodes': [10461, 10462, 10464, 10465, 10472, 10473]}, {'name': 'Crotona - Tremont', 'zipcodes': [10453, 10457, 10460]}, {'name': 'High Bridge - Morrisania', 'zipcodes': [10451, 10452, 10456]}, {'name': 'Hunts Point - Mott Haven', 'zipcodes': [10454, 10455, 10459, 10474]}]}, {'borough': 'Brooklyn', 'neighbourhoods': [{'name': 'Greenpoint', 'zipcodes': [11211, 11222]}, {'name': 'Downtown - Heights - Park Slope', 'zipcodes': [11201, 11205, 11215, 11217, 11231, 11251]}, {'name': 'Bedford Stuyvesant - Crown Heights', 'zipcodes': [11213, 11212, 11216, 11233, 11238]}, {'name': 'East New York', 'zipcodes': [11207, 11208]}, {'name': 'Sunset Park', 'zipcodes': [11220, 11232]}, {'name': 'Borough Park', 'zipcodes': [11204, 11218, 11219, 11230]}, {'name': 'East Flatbush - Flatbush', 'zipcodes': [11203, 11210, 11225, 11226, 11249, 11242, 11241]}, {'name': 'Canarsie - Flatlands', 'zipcodes': [11234, 11236, 11239]}, {'name': 'Bensonhurst - Bay Ridge', 'zipcodes': [11209, 11214, 11228]}, {'name': 'Coney Island - Sheepshead Bay', 'zipcodes': [11223, 11224, 11229, 11235]}, {'name': 'Williamsburg - Bushwick', 'zipcodes': [11206, 11221, 11237]}]}, {'borough': 'Manhattan', 'neighbourhoods': [{'name': 'Washington Heights - Inwood', 'zipcodes': [10031, 10032, 10033, 10034, 10040]}, {'name': 'Central Harlem - Morningside Heights', 'zipcodes': [10026, 10027, 10030, 10037, 10039, 10115]}, {'name': 'East Harlem', 'zipcodes': [10029, 10035]}, {'name': 'Upper West Side', 'zipcodes': [10023, 10024, 10025, 10069, 10055, 10177, 10176, 10179, 10178, 10174, 10173, 10172, 10169, 10168, 10166, 10165, 10162, 10279, 10123, 10122, 10121]}, {'name': 'Upper East Side', 'zipcodes': [10021, 10028, 10044, 10128, 10075, 10065]}, {'name': 'Chelsea - Clinton', 'zipcodes': [10001, 10011, 10018, 10019, 10020, 10036, 10112, 10118, 10119, 10120, 10111, 10110, 10107, 10106, 10103, 10153, 10152, 10151, 10105, 10000]}, {'name': 'Gramercy Park - Murray Hill', 'zipcodes': [10010, 10016, 10017, 10022, 10171, 10170, 10167, 10155, 10158, 10154]}, {'name': 'Greenwich Village - SoHo', 'zipcodes': [10012, 10013, 10014]}, {'name': 'Union Square - Lower East Side', 'zipcodes': [10002, 10003, 10009]}, {'name': 'Lower Manhattan', 'zipcodes': [10004, 10005, 10006, 10007, 10038, 10280, 10048, 10045, 10041, 10282, 10281, 10278, 10271]}]}, {'borough': 'Queens', 'neighbourhoods': [{'name': 'Long Island City - Astoria', 'zipcodes': [11101, 11102, 11103, 11104, 11105, 11106, 11109]}, {'name': 'West Queens', 'zipcodes': [11368, 11369, 11370, 11372, 11373, 11377, 11378]}, {'name': 'Flushing - Clearview', 'zipcodes': [11354, 11355, 11356, 11357, 11358, 11359, 11360]}, {'name': 'Bayside - Little Neck', 'zipcodes': [11361, 11362, 11363, 11364]}, {'name': 'Ridgewood - Forest Hills', 'zipcodes': [11374, 11375, 11379, 11385]}, {'name': 'Fresh Meadows', 'zipcodes': [11365, 11366, 11367]}, {'name': 'Southwest Queens', 'zipcodes': [11414, 11415, 11416, 11417, 11418, 11419, 11420, 11421]}, {'name': 'Jamaica', 'zipcodes': [11412, 11423, 11432, 11433, 11434, 11435, 11436]}, {'name': 'Southeast Queens', 'zipcodes': [11004, 11005, 11411, 11413, 11422, 11426, 11427, 11428, 11429, 11001, 11430, 11040]}, {'name': 'Rockaway', 'zipcodes': [11691, 11692, 11693, 11694, 11695, 11697]}]}, {'borough': 'Staten Island', 'neighbourhoods': [{'name': 'Port Richmond', 'zipcodes': [10302, 10303, 10310]}, {'name': 'Stapleton - St. George ', 'zipcodes': [10301, 10304, 10305]}, {'name': 'Willowbrook', 'zipcodes': [10314]}, {'name': 'South Beach - Tottenville', 'zipcodes': [10306, 10307, 10308, 10309, 10312]}]}]}\n"
     ]
    }
   ],
   "source": [
    "import json\n",
    "import pandas as pd\n",
    "\n",
    "f = open('zipcodes.json')\n",
    "data = json.load(f)\n",
    "\n",
    "print(data)"
   ]
  },
  {
   "cell_type": "markdown",
   "metadata": {},
   "source": [
    "# Boroughs"
   ]
  },
  {
   "cell_type": "code",
   "execution_count": 33,
   "metadata": {},
   "outputs": [],
   "source": [
    "boroughs = pd.DataFrame(columns=['BoroughID','Borough'])\n",
    "\n",
    "ids = []\n",
    "bs = []\n",
    "for boroughid, i in enumerate(data['info']):\n",
    "    ids.append(boroughid)\n",
    "    bs.append(i['borough'])\n",
    "\n",
    "ids.append(99999)\n",
    "bs.append('Unknown')\n",
    "\n",
    "boroughs['BoroughID'] = ids\n",
    "boroughs['Borough'] = bs\n",
    "\n",
    "boroughs.to_csv('Boroughs.csv', index=False)"
   ]
  },
  {
   "cell_type": "markdown",
   "metadata": {},
   "source": [
    "# Neighbourhoods"
   ]
  },
  {
   "cell_type": "code",
   "execution_count": 34,
   "metadata": {},
   "outputs": [],
   "source": [
    "neighbourhoods = pd.DataFrame(columns=['NeighbourhoodID','Neighbourhood','BoroughID'])\n",
    "\n",
    "id = 0\n",
    "ids = []\n",
    "ns = []\n",
    "bids = []\n",
    "for boroughid, borough in enumerate(data['info']):\n",
    "    for n in borough['neighbourhoods']:\n",
    "        ids.append(id)\n",
    "        id += 1\n",
    "        ns.append(n['name'])\n",
    "        bids.append(boroughid)\n",
    "\n",
    "ids.append(99999)\n",
    "ns.append('Unknown')\n",
    "bids.append(99999)\n",
    "\n",
    "neighbourhoods['NeighbourhoodID'] = ids\n",
    "neighbourhoods['Neighbourhood'] = ns\n",
    "neighbourhoods['BoroughID'] = bids\n",
    "\n",
    "neighbourhoods.to_csv('Neighbourhoods.csv', index=False)"
   ]
  },
  {
   "cell_type": "markdown",
   "metadata": {},
   "source": [
    "# Zip Codes"
   ]
  },
  {
   "cell_type": "code",
   "execution_count": 35,
   "metadata": {},
   "outputs": [],
   "source": [
    "zipcodes = pd.DataFrame(columns=['ZipCode','NeighbourhoodID'])\n",
    "\n",
    "id = 0\n",
    "zips = []\n",
    "nids = []\n",
    "for boroughid, borough in enumerate(data['info']):\n",
    "    for n in borough['neighbourhoods']:\n",
    "        for z in n['zipcodes']:\n",
    "            zips.append(z)\n",
    "            nids.append(id)\n",
    "        id += 1\n",
    "\n",
    "zips.append(0)\n",
    "nids.append(99999)\n",
    "\n",
    "zipcodes['ZipCode'] = zips\n",
    "zipcodes['NeighbourhoodID'] = nids\n",
    "\n",
    "zipcodes.to_csv('ZipCodes.csv', index=False)"
   ]
  }
 ],
 "metadata": {
  "kernelspec": {
   "display_name": "Python 3",
   "language": "python",
   "name": "python3"
  },
  "language_info": {
   "codemirror_mode": {
    "name": "ipython",
    "version": 3
   },
   "file_extension": ".py",
   "mimetype": "text/x-python",
   "name": "python",
   "nbconvert_exporter": "python",
   "pygments_lexer": "ipython3",
   "version": "3.11.1"
  },
  "orig_nbformat": 4
 },
 "nbformat": 4,
 "nbformat_minor": 2
}
