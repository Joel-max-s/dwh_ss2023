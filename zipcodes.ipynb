{
 "cells": [
  {
   "cell_type": "code",
   "execution_count": null,
   "metadata": {},
   "outputs": [],
   "source": [
    "boroughs = pd.DataFrame(columns=['BoroughID','Borough'])\n",
    "\n",
    "ids = []\n",
    "bs = []\n",
    "for boroughid, i in enumerate(data['info']):\n",
    "    ids.append(boroughid)\n",
    "    bs.append(i['borough'])\n",
    "\n",
    "ids.append(99999)\n",
    "bs.append('Unknown')\n",
    "\n",
    "boroughs['BoroughID'] = ids\n",
    "boroughs['Borough'] = bs\n",
    "\n",
    "boroughs.to_csv('Boroughs.csv', index=False)"
   ]
  },
  {
   "cell_type": "markdown",
   "metadata": {},
   "source": [
    "# Neighbourhoods"
   ]
  },
  {
   "cell_type": "code",
   "execution_count": null,
   "metadata": {},
   "outputs": [],
   "source": [
    "neighbourhoods = pd.DataFrame(columns=['NeighbourhoodID','Neighbourhood','BoroughID'])\n",
    "\n",
    "id = 0\n",
    "ids = []\n",
    "ns = []\n",
    "bids = []\n",
    "for boroughid, borough in enumerate(data['info']):\n",
    "    for n in borough['neighbourhoods']:\n",
    "        ids.append(id)\n",
    "        id += 1\n",
    "        ns.append(n['name'])\n",
    "        bids.append(boroughid)\n",
    "\n",
    "ids.append(99999)\n",
    "ns.append('Unknown')\n",
    "bids.append(99999)\n",
    "\n",
    "neighbourhoods['NeighbourhoodID'] = ids\n",
    "neighbourhoods['Neighbourhood'] = ns\n",
    "neighbourhoods['BoroughID'] = bids\n",
    "\n",
    "neighbourhoods.to_csv('Neighbourhoods.csv', index=False)"
   ]
  },
  {
   "cell_type": "markdown",
   "metadata": {},
   "source": [
    "# Zip Codes"
   ]
  },
  {
   "cell_type": "code",
   "execution_count": null,
   "metadata": {},
   "outputs": [],
   "source": [
    "zipcodes = pd.DataFrame(columns=['ZipCode','NeighbourhoodID'])\n",
    "\n",
    "id = 0\n",
    "zips = []\n",
    "nids = []\n",
    "for boroughid, borough in enumerate(data['info']):\n",
    "    for n in borough['neighbourhoods']:\n",
    "        for z in n['zipcodes']:\n",
    "            zips.append(z)\n",
    "            nids.append(id)\n",
    "        id += 1\n",
    "\n",
    "zips.append(0)\n",
    "nids.append(99999)\n",
    "\n",
    "zipcodes['ZipCode'] = zips\n",
    "zipcodes['NeighbourhoodID'] = nids\n",
    "\n",
    "zipcodes.to_csv('ZipCodes.csv', index=False)"
   ]
  },
  {
   "cell_type": "code",
   "execution_count": null,
   "metadata": {},
   "outputs": [],
   "source": [
    "import json\n",
    "import pandas as pd\n",
    "\n",
    "f = open('zipcodes.json')\n",
    "data = json.load(f)\n",
    "\n",
    "print(data)"
   ]
  },
  {
   "cell_type": "markdown",
   "metadata": {},
   "source": [
    "# Boroughs"
   ]
  }
 ],
 "metadata": {
  "kernelspec": {
   "display_name": "Python 3",
   "language": "python",
   "name": "python3"
  },
  "language_info": {
   "codemirror_mode": {
    "name": "ipython",
    "version": 3
   },
   "file_extension": ".py",
   "mimetype": "text/x-python",
   "name": "python",
   "nbconvert_exporter": "python",
   "pygments_lexer": "ipython3",
   "version": "3.11.1"
  },
  "orig_nbformat": 4
 },
 "nbformat": 4,
 "nbformat_minor": 2
}
